{
 "cells": [
  {
   "cell_type": "markdown",
   "id": "72b47d44",
   "metadata": {},
   "source": [
    "# Understand how **ARGS and ***KWARGS work in PYTHON FUNCTIONS"
   ]
  },
  {
   "cell_type": "markdown",
   "id": "00597057",
   "metadata": {},
   "source": [
    "*args = Non-Keyword argument \n",
    "**kwargs = Keyword argument\n"
   ]
  },
  {
   "cell_type": "code",
   "execution_count": 3,
   "id": "cf0fab61",
   "metadata": {},
   "outputs": [
    {
     "name": "stdout",
     "output_type": "stream",
     "text": [
      "10\n"
     ]
    }
   ],
   "source": [
    "# *args\n",
    "def add(*args):\n",
    "    sum=0\n",
    "    for _ in args:\n",
    "        sum=sum+_        \n",
    "    return(sum)\n",
    "print(add(3,5,2))"
   ]
  },
  {
   "cell_type": "code",
   "execution_count": 10,
   "id": "34e2c64f",
   "metadata": {},
   "outputs": [
    {
     "ename": "SyntaxError",
     "evalue": "expression cannot contain assignment, perhaps you meant \"==\"? (1013077731.py, line 4)",
     "output_type": "error",
     "traceback": [
      "\u001b[0;36m  Input \u001b[0;32mIn [10]\u001b[0;36m\u001b[0m\n\u001b[0;31m    for key,val in kw:print(f'{key}'='{val}')\u001b[0m\n\u001b[0m                            ^\u001b[0m\n\u001b[0;31mSyntaxError\u001b[0m\u001b[0;31m:\u001b[0m expression cannot contain assignment, perhaps you meant \"==\"?\n"
     ]
    }
   ],
   "source": [
    "# **kwargs\n",
    "def data(**kw):\n",
    "    print(type(kw))\n",
    "    for key,val in kw:print('{}={}'.format(key))\n",
    "demo={\n",
    "    'id':'xyz123@gmail.com',\n",
    "    'pass':'kale',\n",
    "    'name':'kale david',\n",
    "    'role':1\n",
    "}\n",
    "data(**demo)   "
   ]
  }
 ],
 "metadata": {
  "kernelspec": {
   "display_name": "Python 3 (ipykernel)",
   "language": "python",
   "name": "python3"
  },
  "language_info": {
   "codemirror_mode": {
    "name": "ipython",
    "version": 3
   },
   "file_extension": ".py",
   "mimetype": "text/x-python",
   "name": "python",
   "nbconvert_exporter": "python",
   "pygments_lexer": "ipython3",
   "version": "3.10.4"
  }
 },
 "nbformat": 4,
 "nbformat_minor": 5
}
