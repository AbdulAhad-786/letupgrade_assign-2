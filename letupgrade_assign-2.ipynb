{
 "cells": [
  {
   "cell_type": "markdown",
   "id": "d09cd853",
   "metadata": {},
   "source": [
    "# Understand how **ARGS and ***KWARGS work in PYTHON FUNCTIONS"
   ]
  },
  {
   "cell_type": "markdown",
   "id": "2ff7af67",
   "metadata": {},
   "source": [
    "*args = Non-Keyword argument \n",
    "**kwargs = Keyword argument\n"
   ]
  },
  {
   "cell_type": "code",
   "execution_count": 3,
   "id": "40067144",
   "metadata": {},
   "outputs": [
    {
     "name": "stdout",
     "output_type": "stream",
     "text": [
      "10\n"
     ]
    }
   ],
   "source": [
    "# *args\n",
    "def add(*args):\n",
    "    sum=0\n",
    "    for _ in args:\n",
    "        sum=sum+_        \n",
    "    return(sum)\n",
    "print(add(3,5,2))"
   ]
  },
  {
   "cell_type": "code",
   "execution_count": 13,
   "id": "fbeb464a",
   "metadata": {},
   "outputs": [
    {
     "name": "stdout",
     "output_type": "stream",
     "text": [
      "<class 'dict'>\n",
      "id=xyz123@gmail.com\n",
      "pass=kale\n",
      "name=kale david\n",
      "role=1\n"
     ]
    }
   ],
   "source": [
    "# **kwargs\n",
    "def data(**kw):\n",
    "    print(type(kw))\n",
    "    for key,val in kw.items():print('{}={}'.format(key,val))\n",
    "demo={\n",
    "    'id':'xyz123@gmail.com',\n",
    "    'pass':'kale',\n",
    "    'name':'kale david',\n",
    "    'role':1\n",
    "}\n",
    "data(**demo)   "
   ]
  }
 ],
 "metadata": {
  "kernelspec": {
   "display_name": "Python 3 (ipykernel)",
   "language": "python",
   "name": "python3"
  },
  "language_info": {
   "codemirror_mode": {
    "name": "ipython",
    "version": 3
   },
   "file_extension": ".py",
   "mimetype": "text/x-python",
   "name": "python",
   "nbconvert_exporter": "python",
   "pygments_lexer": "ipython3",
   "version": "3.10.4"
  }
 },
 "nbformat": 4,
 "nbformat_minor": 5
}
